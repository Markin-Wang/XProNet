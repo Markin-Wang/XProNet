{
 "cells": [
  {
   "cell_type": "code",
   "execution_count": 1,
   "id": "8d1bea68",
   "metadata": {},
   "outputs": [],
   "source": [
    "import yake\n",
    "import json\n",
    "import pickle\n",
    "from collections import Counter\n",
    "import numpy as np"
   ]
  },
  {
   "cell_type": "code",
   "execution_count": 4,
   "id": "ab3964f0",
   "metadata": {},
   "outputs": [],
   "source": [
    "ann_path = '/home/jun/Documents/projects/phd/RRGPro/data/iu_xray/annotation.json'"
   ]
  },
  {
   "cell_type": "code",
   "execution_count": 5,
   "id": "f260d773",
   "metadata": {},
   "outputs": [
    {
     "ename": "FileNotFoundError",
     "evalue": "[Errno 2] No such file or directory: '/home/jun/Documents/projects/RRGPro/data/iu_xray/annotation.json'",
     "output_type": "error",
     "traceback": [
      "\u001b[0;31m---------------------------------------------------------------------------\u001b[0m",
      "\u001b[0;31mFileNotFoundError\u001b[0m                         Traceback (most recent call last)",
      "\u001b[0;32m/tmp/ipykernel_6672/3526789620.py\u001b[0m in \u001b[0;36m<module>\u001b[0;34m\u001b[0m\n\u001b[0;32m----> 1\u001b[0;31m \u001b[0mann\u001b[0m \u001b[0;34m=\u001b[0m \u001b[0mjson\u001b[0m\u001b[0;34m.\u001b[0m\u001b[0mloads\u001b[0m\u001b[0;34m(\u001b[0m\u001b[0mopen\u001b[0m\u001b[0;34m(\u001b[0m\u001b[0mann_path\u001b[0m\u001b[0;34m,\u001b[0m \u001b[0;34m'r'\u001b[0m\u001b[0;34m)\u001b[0m\u001b[0;34m.\u001b[0m\u001b[0mread\u001b[0m\u001b[0;34m(\u001b[0m\u001b[0;34m)\u001b[0m\u001b[0;34m)\u001b[0m\u001b[0;34m\u001b[0m\u001b[0;34m\u001b[0m\u001b[0m\n\u001b[0m\u001b[1;32m      2\u001b[0m \u001b[0mexamples\u001b[0m \u001b[0;34m=\u001b[0m \u001b[0mann\u001b[0m\u001b[0;34m[\u001b[0m\u001b[0;34m'train'\u001b[0m\u001b[0;34m]\u001b[0m\u001b[0;34m\u001b[0m\u001b[0;34m\u001b[0m\u001b[0m\n",
      "\u001b[0;31mFileNotFoundError\u001b[0m: [Errno 2] No such file or directory: '/home/jun/Documents/projects/RRGPro/data/iu_xray/annotation.json'"
     ]
    }
   ],
   "source": [
    "ann = json.loads(open(ann_path, 'r').read())\n",
    "examples = ann['train']"
   ]
  },
  {
   "cell_type": "code",
   "execution_count": 4,
   "id": "a9daaf1c",
   "metadata": {},
   "outputs": [],
   "source": [
    "kws_set=set()\n",
    "iu_xray_kws={}"
   ]
  },
  {
   "cell_type": "code",
   "execution_count": 5,
   "id": "53a673af",
   "metadata": {},
   "outputs": [],
   "source": [
    "kw_extractor = yake.KeywordExtractor(top=3,n=3)"
   ]
  },
  {
   "cell_type": "code",
   "execution_count": 6,
   "id": "d521b738",
   "metadata": {},
   "outputs": [],
   "source": [
    "for example in examples:\n",
    "    ids = example['id']\n",
    "    report = example['report']\n",
    "    kws = kw_extractor.extract_keywords(report)\n",
    "    for unit in kws:\n",
    "        kws_set.add(unit[0])\n",
    "    iu_xray_kws[ids]=kws\n",
    "    \n",
    "    "
   ]
  },
  {
   "cell_type": "code",
   "execution_count": 7,
   "id": "0b31f641",
   "metadata": {},
   "outputs": [],
   "source": [
    "kws_list = list(kws_set)"
   ]
  },
  {
   "cell_type": "markdown",
   "id": "9886fba1",
   "metadata": {},
   "source": [
    "# len(kws_list)"
   ]
  },
  {
   "cell_type": "code",
   "execution_count": 47,
   "id": "150118d9",
   "metadata": {},
   "outputs": [],
   "source": [
    "with open('./iu_xray_keywords.txt','w') as f:\n",
    "    f.write('The number of keywords: '+str(len(kws_set))+'.\\n')\n",
    "    f.write('The maximum length of one keyword: 3.\\n')\n",
    "    f.write('The number of the report: '+str(len(iu_xray_kws))+'.\\n')\n",
    "    f.write('Select Top 3 keywords for each report.\\n')\n",
    "    f.write('Keywords||Frequency')\n",
    "    for kw in kws_set:\n",
    "        f.write(kw+\"   | \"+str(counter[kw])+'\\n')\n",
    "    "
   ]
  },
  {
   "cell_type": "code",
   "execution_count": 36,
   "id": "1d4c3e58",
   "metadata": {},
   "outputs": [],
   "source": [
    "with open('./iu_xray_kws.pickle','wb') as myfile:\n",
    "    pickle.dump(iu_xray_kws,myfile)"
   ]
  },
  {
   "cell_type": "code",
   "execution_count": 38,
   "id": "575c905f",
   "metadata": {},
   "outputs": [],
   "source": [
    "with open('./iu_xray_kws_list.pickle','wb') as myfile:\n",
    "    pickle.dump(kws_list,myfile)"
   ]
  },
  {
   "cell_type": "code",
   "execution_count": 72,
   "id": "2218e9fe",
   "metadata": {},
   "outputs": [],
   "source": [
    "labels = {}\n",
    "num_class = len(kws_list)\n",
    "counter = Counter(kws_list)\n",
    "for key,value in iu_xray_kws.items():\n",
    "    label=np.zeros(num_class,dtype=int)\n",
    "    for unit in value:\n",
    "        counter[unit[0]]+=1\n",
    "        label[kws_list.index(unit[0])]=1\n",
    "    labels[key]=label"
   ]
  },
  {
   "cell_type": "code",
   "execution_count": 67,
   "id": "f9654526",
   "metadata": {},
   "outputs": [],
   "source": [
    "c=list(counter.values())"
   ]
  },
  {
   "cell_type": "code",
   "execution_count": 73,
   "id": "b9ac02ac",
   "metadata": {},
   "outputs": [],
   "source": [
    "with open('./iu_xray_labels.pickle','wb') as myfile:\n",
    "    pickle.dump(labels,myfile)"
   ]
  }
 ],
 "metadata": {
  "kernelspec": {
   "display_name": "Python 3 (ipykernel)",
   "language": "python",
   "name": "python3"
  },
  "language_info": {
   "codemirror_mode": {
    "name": "ipython",
    "version": 3
   },
   "file_extension": ".py",
   "mimetype": "text/x-python",
   "name": "python",
   "nbconvert_exporter": "python",
   "pygments_lexer": "ipython3",
   "version": "3.7.11"
  }
 },
 "nbformat": 4,
 "nbformat_minor": 5
}
