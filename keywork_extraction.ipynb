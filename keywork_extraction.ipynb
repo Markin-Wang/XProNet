{
 "cells": [
  {
   "cell_type": "code",
   "execution_count": 1,
   "id": "8d1bea68",
   "metadata": {},
   "outputs": [],
   "source": [
    "import yake\n",
    "import json\n",
    "import pickle\n",
    "from collections import Counter\n",
    "import numpy as np"
   ]
  },
  {
   "cell_type": "code",
   "execution_count": 2,
   "id": "ab3964f0",
   "metadata": {},
   "outputs": [],
   "source": [
    "ann_path = '/home/jun/Documents/projects/phd/RRGPro/data/iu_xray/annotation.json'"
   ]
  },
  {
   "cell_type": "code",
   "execution_count": 3,
   "id": "f260d773",
   "metadata": {},
   "outputs": [],
   "source": [
    "ann = json.loads(open(ann_path, 'r').read())\n",
    "examples = ann['train']+ann['val']+ann['test']"
   ]
  },
  {
   "cell_type": "code",
   "execution_count": 4,
   "id": "b435e0f7",
   "metadata": {},
   "outputs": [
    {
     "data": {
      "text/plain": [
       "2955"
      ]
     },
     "execution_count": 4,
     "metadata": {},
     "output_type": "execute_result"
    }
   ],
   "source": [
    "len(examples)"
   ]
  },
  {
   "cell_type": "code",
   "execution_count": 10,
   "id": "a9daaf1c",
   "metadata": {},
   "outputs": [],
   "source": [
    "kws_set=set()\n",
    "iu_xray_kws={}"
   ]
  },
  {
   "cell_type": "code",
   "execution_count": 11,
   "id": "53a673af",
   "metadata": {},
   "outputs": [],
   "source": [
    "kw_extractor = yake.KeywordExtractor(top=3,n=3)"
   ]
  },
  {
   "cell_type": "code",
   "execution_count": 12,
   "id": "d521b738",
   "metadata": {},
   "outputs": [],
   "source": [
    "for example in examples:\n",
    "    ids = example['id']\n",
    "    report = example['report']\n",
    "    kws = kw_extractor.extract_keywords(report)\n",
    "    for unit in kws:\n",
    "        kws_set.add(unit[0])\n",
    "    iu_xray_kws[ids]=kws\n",
    "    \n",
    "    "
   ]
  },
  {
   "cell_type": "code",
   "execution_count": 13,
   "id": "0b31f641",
   "metadata": {},
   "outputs": [],
   "source": [
    "kws_list = list(kws_set)"
   ]
  },
  {
   "cell_type": "code",
   "execution_count": 14,
   "id": "24639f5c",
   "metadata": {},
   "outputs": [
    {
     "data": {
      "text/plain": [
       "1640"
      ]
     },
     "execution_count": 14,
     "metadata": {},
     "output_type": "execute_result"
    }
   ],
   "source": [
    "len(kws_list)"
   ]
  },
  {
   "cell_type": "markdown",
   "id": "9886fba1",
   "metadata": {},
   "source": [
    "# len(kws_list)"
   ]
  },
  {
   "cell_type": "code",
   "execution_count": 13,
   "id": "150118d9",
   "metadata": {},
   "outputs": [
    {
     "ename": "NameError",
     "evalue": "name 'counter' is not defined",
     "output_type": "error",
     "traceback": [
      "\u001b[0;31m---------------------------------------------------------------------------\u001b[0m",
      "\u001b[0;31mNameError\u001b[0m                                 Traceback (most recent call last)",
      "\u001b[0;32m/tmp/ipykernel_6672/2721352527.py\u001b[0m in \u001b[0;36m<module>\u001b[0;34m\u001b[0m\n\u001b[1;32m      6\u001b[0m     \u001b[0mf\u001b[0m\u001b[0;34m.\u001b[0m\u001b[0mwrite\u001b[0m\u001b[0;34m(\u001b[0m\u001b[0;34m'Keywords||Frequency'\u001b[0m\u001b[0;34m)\u001b[0m\u001b[0;34m\u001b[0m\u001b[0;34m\u001b[0m\u001b[0m\n\u001b[1;32m      7\u001b[0m     \u001b[0;32mfor\u001b[0m \u001b[0mkw\u001b[0m \u001b[0;32min\u001b[0m \u001b[0mkws_set\u001b[0m\u001b[0;34m:\u001b[0m\u001b[0;34m\u001b[0m\u001b[0;34m\u001b[0m\u001b[0m\n\u001b[0;32m----> 8\u001b[0;31m         \u001b[0mf\u001b[0m\u001b[0;34m.\u001b[0m\u001b[0mwrite\u001b[0m\u001b[0;34m(\u001b[0m\u001b[0mkw\u001b[0m\u001b[0;34m+\u001b[0m\u001b[0;34m\"   | \"\u001b[0m\u001b[0;34m+\u001b[0m\u001b[0mstr\u001b[0m\u001b[0;34m(\u001b[0m\u001b[0mcounter\u001b[0m\u001b[0;34m[\u001b[0m\u001b[0mkw\u001b[0m\u001b[0;34m]\u001b[0m\u001b[0;34m)\u001b[0m\u001b[0;34m+\u001b[0m\u001b[0;34m'\\n'\u001b[0m\u001b[0;34m)\u001b[0m\u001b[0;34m\u001b[0m\u001b[0;34m\u001b[0m\u001b[0m\n\u001b[0m\u001b[1;32m      9\u001b[0m \u001b[0;34m\u001b[0m\u001b[0m\n",
      "\u001b[0;31mNameError\u001b[0m: name 'counter' is not defined"
     ]
    }
   ],
   "source": [
    "with open('./iu_xray_keywords.txt','w') as f:\n",
    "    f.write('The number of keywords: '+str(len(kws_set))+'.\\n')\n",
    "    f.write('The maximum length of one keyword: 3.\\n')\n",
    "    f.write('The number of the report: '+str(len(iu_xray_kws))+'.\\n')\n",
    "    f.write('Select Top 3 keywords for each report.\\n')\n",
    "    f.write('Keywords||Frequency')\n",
    "    for kw in kws_set:\n",
    "        f.write(kw+\"   | \"+str(counter[kw])+'\\n')\n",
    "    "
   ]
  },
  {
   "cell_type": "code",
   "execution_count": 15,
   "id": "1d4c3e58",
   "metadata": {},
   "outputs": [],
   "source": [
    "with open('./iu_xray_kws.pickle','wb') as myfile:\n",
    "    pickle.dump(iu_xray_kws,myfile)"
   ]
  },
  {
   "cell_type": "code",
   "execution_count": 16,
   "id": "575c905f",
   "metadata": {},
   "outputs": [],
   "source": [
    "with open('./iu_xray_kws_list.pickle','wb') as myfile:\n",
    "    pickle.dump(kws_list,myfile)"
   ]
  },
  {
   "cell_type": "code",
   "execution_count": 17,
   "id": "2218e9fe",
   "metadata": {},
   "outputs": [],
   "source": [
    "labels = {}\n",
    "num_class = len(kws_list)\n",
    "counter = Counter(kws_list)\n",
    "for key,value in iu_xray_kws.items():\n",
    "    label=np.zeros(num_class,dtype=int)\n",
    "    for unit in value:\n",
    "        counter[unit[0]]+=1\n",
    "        label[kws_list.index(unit[0])]=1\n",
    "    labels[key]=label"
   ]
  },
  {
   "cell_type": "code",
   "execution_count": 18,
   "id": "f9654526",
   "metadata": {},
   "outputs": [],
   "source": [
    "c=list(counter.values())"
   ]
  },
  {
   "cell_type": "code",
   "execution_count": 19,
   "id": "40b48ece",
   "metadata": {},
   "outputs": [
    {
     "ename": "AttributeError",
     "evalue": "'dict' object has no attribute 'shape'",
     "output_type": "error",
     "traceback": [
      "\u001b[0;31m---------------------------------------------------------------------------\u001b[0m",
      "\u001b[0;31mAttributeError\u001b[0m                            Traceback (most recent call last)",
      "\u001b[0;32m/tmp/ipykernel_9210/918310230.py\u001b[0m in \u001b[0;36m<module>\u001b[0;34m\u001b[0m\n\u001b[0;32m----> 1\u001b[0;31m \u001b[0mlabels\u001b[0m\u001b[0;34m.\u001b[0m\u001b[0mshape\u001b[0m\u001b[0;34m\u001b[0m\u001b[0;34m\u001b[0m\u001b[0m\n\u001b[0m",
      "\u001b[0;31mAttributeError\u001b[0m: 'dict' object has no attribute 'shape'"
     ]
    }
   ],
   "source": [
    "labels.shape"
   ]
  },
  {
   "cell_type": "code",
   "execution_count": 20,
   "id": "b9ac02ac",
   "metadata": {},
   "outputs": [],
   "source": [
    "with open('./iu_xray_labels.pickle','wb') as myfile:\n",
    "    pickle.dump(labels,myfile)"
   ]
  }
 ],
 "metadata": {
  "kernelspec": {
   "display_name": "Python 3 (ipykernel)",
   "language": "python",
   "name": "python3"
  },
  "language_info": {
   "codemirror_mode": {
    "name": "ipython",
    "version": 3
   },
   "file_extension": ".py",
   "mimetype": "text/x-python",
   "name": "python",
   "nbconvert_exporter": "python",
   "pygments_lexer": "ipython3",
   "version": "3.7.11"
  }
 },
 "nbformat": 4,
 "nbformat_minor": 5
}
